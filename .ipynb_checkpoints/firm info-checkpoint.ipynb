{
 "cells": [
  {
   "cell_type": "code",
   "execution_count": 3,
   "metadata": {
    "ExecuteTime": {
     "end_time": "2019-06-26T12:40:14.117444Z",
     "start_time": "2019-06-26T12:40:13.996785Z"
    }
   },
   "outputs": [],
   "source": [
    "import requests"
   ]
  },
  {
   "cell_type": "code",
   "execution_count": 4,
   "metadata": {
    "ExecuteTime": {
     "end_time": "2019-06-26T12:40:14.610637Z",
     "start_time": "2019-06-26T12:40:14.542030Z"
    }
   },
   "outputs": [],
   "source": [
    "from bs4 import BeautifulSoup"
   ]
  },
  {
   "cell_type": "code",
   "execution_count": 5,
   "metadata": {
    "ExecuteTime": {
     "end_time": "2019-06-26T12:40:17.065789Z",
     "start_time": "2019-06-26T12:40:17.062490Z"
    }
   },
   "outputs": [],
   "source": [
    "locations = 'Lào Cai, Yên Bái, Điện Biên, Hòa Bình, Lai Châu, Sơn La, Hà Giang, Cao Bằng, Bắc Kạn, Lạng Sơn, Tuyên Quang, Thái Nguyên, Phú Thọ, Bắc Giang, Quảng Ninh, Bắc Ninh, Hà Nam, Hà Nội, Hải Dương, Hưng Yên, Hải Phòng, Nam Định, Ninh Bình, Thái Bình, Vĩnh Phúc, Thanh Hoá , Nghệ An'"
   ]
  },
  {
   "cell_type": "code",
   "execution_count": 6,
   "metadata": {
    "ExecuteTime": {
     "end_time": "2019-06-26T12:40:17.245285Z",
     "start_time": "2019-06-26T12:40:17.236729Z"
    }
   },
   "outputs": [],
   "source": [
    "import re\n",
    "import sys\n",
    "\n",
    "patterns = {\n",
    "    '[àáảãạăắằẵặẳâầấậẫẩ]': 'a',\n",
    "    '[đ]': 'd',\n",
    "    '[èéẻẽẹêềếểễệ]': 'e',\n",
    "    '[ìíỉĩị]': 'i',\n",
    "    '[òóỏõọôồốổỗộơờớởỡợ]': 'o',\n",
    "    '[ùúủũụưừứửữự]': 'u',\n",
    "    '[ỳýỷỹỵ]': 'y'\n",
    "}\n",
    "\n",
    "def convert(text):\n",
    "    \"\"\"\n",
    "    Convert from 'Tieng Viet co dau' thanh 'Tieng Viet khong dau'\n",
    "    text: input string to be converted\n",
    "    Return: string converted\n",
    "    \"\"\"\n",
    "    output = text\n",
    "    for regex, replace in patterns.items():\n",
    "        output = re.sub(regex, replace, output)\n",
    "        # deal with upper case\n",
    "        output = re.sub(regex.upper(), replace.upper(), output)\n",
    "    return output"
   ]
  },
  {
   "cell_type": "code",
   "execution_count": 5,
   "metadata": {
    "ExecuteTime": {
     "end_time": "2019-06-26T12:30:05.487418Z",
     "start_time": "2019-06-26T12:30:05.356207Z"
    }
   },
   "outputs": [],
   "source": [
    "citys = convert(locations)\n",
    "citys = [i.lower().strip() for i in citys.split(\", \")]\n",
    "citys=['/' + i.replace(\" \",'-') for i in citys]\n",
    "citys2ids = requests.get(\"https://thongtindoanhnghiep.co/api/city\").json()['LtsItem']\n",
    "citys2ids = [i for i in citys2ids if i['SolrID'] in citys]"
   ]
  },
  {
   "cell_type": "code",
   "execution_count": 7,
   "metadata": {
    "ExecuteTime": {
     "end_time": "2019-06-26T12:30:16.160284Z",
     "start_time": "2019-06-26T12:30:16.151513Z"
    }
   },
   "outputs": [],
   "source": [
    "# districts = []\n",
    "# for city in citys2ids:\n",
    "#     city_id = city['ID']\n",
    "#     url = f'https://thongtindoanhnghiep.co/api/city/{city_id}/district'\n",
    "#     r = requests.get(url)\n",
    "#     districts += r.json()\n",
    "    \n",
    "# districts = [i['SolrID'][1:] for i in districts]"
   ]
  },
  {
   "cell_type": "code",
   "execution_count": 8,
   "metadata": {
    "ExecuteTime": {
     "end_time": "2019-06-26T12:30:18.119894Z",
     "start_time": "2019-06-26T12:30:18.113663Z"
    },
    "scrolled": true
   },
   "outputs": [],
   "source": [
    "# num_records_by_districts = {}\n",
    "# e = 0\n",
    "# for i in districts:\n",
    "#     e+=1\n",
    "#     if(e%20) == 0:\n",
    "#         print(e)\n",
    "#     url = f'https://thongtindoanhnghiep.co/api/company?l={i}'\n",
    "#     r = requests.get(url).json()\n",
    "#     num_records_by_districts[i] = r[\"Option\"]['TotalRow']\n",
    "    "
   ]
  },
  {
   "cell_type": "code",
   "execution_count": 8,
   "metadata": {
    "ExecuteTime": {
     "end_time": "2019-06-26T12:40:23.136579Z",
     "start_time": "2019-06-26T12:40:23.133752Z"
    },
    "scrolled": true
   },
   "outputs": [],
   "source": [
    "import pickle\n",
    "\n",
    "# with open('num_records_by_districts.pickle', 'wb') as handle:\n",
    "#     pickle.dump(num_records_by_districts, handle, protocol=pickle.HIGHEST_PROTOCOL)\n"
   ]
  },
  {
   "cell_type": "code",
   "execution_count": 9,
   "metadata": {
    "ExecuteTime": {
     "end_time": "2019-06-26T12:40:23.338647Z",
     "start_time": "2019-06-26T12:40:23.335042Z"
    }
   },
   "outputs": [],
   "source": [
    "\n",
    "with open('num_records_by_districts.pickle', 'rb') as handle:\n",
    "    num_records_by_districts = pickle.load(handle)\n",
    "\n"
   ]
  },
  {
   "cell_type": "code",
   "execution_count": 10,
   "metadata": {
    "ExecuteTime": {
     "end_time": "2019-06-26T12:40:24.695915Z",
     "start_time": "2019-06-26T12:40:24.686977Z"
    }
   },
   "outputs": [],
   "source": [
    "def get_closed_date(tax_code):\n",
    "    url = f'https://thongtindoanhnghiep.co/api/company/{tax_code}'\n",
    "    r = requests.get(url).json()\n",
    "    closed_date = r['NgayDongMST']\n",
    "    return closed_date\n"
   ]
  },
  {
   "cell_type": "code",
   "execution_count": 37,
   "metadata": {
    "ExecuteTime": {
     "end_time": "2019-06-26T12:48:09.924423Z",
     "start_time": "2019-06-26T12:48:09.318740Z"
    }
   },
   "outputs": [],
   "source": [
    "import random\n",
    "import time\n",
    "import pandas as pd"
   ]
  },
  {
   "cell_type": "code",
   "execution_count": 38,
   "metadata": {
    "ExecuteTime": {
     "end_time": "2019-06-26T12:48:59.237430Z",
     "start_time": "2019-06-26T12:48:59.223747Z"
    }
   },
   "outputs": [],
   "source": [
    "def parse_districts(district):\n",
    "    num_records = num_records_by_districts[district]\n",
    "    num_pages = num_records//15 + 2\n",
    "    for page in range(1,num_pages):\n",
    "        time.sleep(0.1)\n",
    "        url = f'https://thongtindoanhnghiep.co/{district}?p={page}'\n",
    "        r = requests.get(url)\n",
    "        soup = BeautifulSoup(r.content)\n",
    "        firms = soup.findAll(\"div\", attrs={'class':'news-v3 bg-color-white'})\n",
    "        res = [{'company_name': firm.find(\"h2\").text, \n",
    "                  'location_detail': firm.findAll(\"strong\")[-2].text,\n",
    "                  'tax_code': firm.findAll(\"strong\")[0].text,\n",
    "                  'established_date': firm.findAll('p')[1].text.split(\" \")[-1],\n",
    "                  'sector': firm.findAll(\"strong\")[-1].text,\n",
    "                  'province': firm.findAll(\"strong\")[1].text\n",
    "                 } for firm in firms]\n",
    "        df = pd.DataFrame(res, columns=['company_name','province','location_detail', 'sector', 'tax_code', 'established_date'])\n",
    "        fn = district.split(\"/\")[0] + '.csv'\n",
    "        with open('./crawled/'+fn, 'a') as f:\n",
    "            df.to_csv(f, index = False, header = False, sep='\\t')\n",
    "    print('DONE', district, num_records)"
   ]
  },
  {
   "cell_type": "code",
   "execution_count": 39,
   "metadata": {
    "ExecuteTime": {
     "end_time": "2019-06-26T12:49:02.379428Z",
     "start_time": "2019-06-26T12:49:02.302596Z"
    },
    "scrolled": true
   },
   "outputs": [
    {
     "name": "stdout",
     "output_type": "stream",
     "text": [
      "DONE ha-noi/thanh-pho-ha-noi 441\n",
      "DONE hung-yen/huyen-an-thi 493\n",
      "DONE hai-duong/huyen-thanh-ha 572\n",
      "DONE nam-dinh/huyen-xuan-truong 931\n",
      "ha-noi/huyen-quoc-oai 100\n",
      "DONE hai-duong/huyen-kim-thanh 926\n",
      "quang-ninh/thanh-pho-ha-long 100\n",
      "ha-noi/quan-ba-dinh 100\n",
      "DONE ha-noi/huyen-quoc-oai 1651\n",
      "DONE nam-dinh/huyen-truc-ninh 757\n",
      "DONE hung-yen/huyen-khoai-chau 1241\n",
      "ha-noi/quan-tay-ho 100\n",
      "DONE nam-dinh/huyen-my-loc 308\n",
      "DONE hai-duong/huyen-thanh-mien 545\n",
      "DONE hung-yen/huyen-phu-cu 338\n",
      "DONE quang-ninh/huyen-ba-che 116\n",
      "DONE ha-noi/huyen-tu-liem 781\n",
      "DONE hung-yen/huyen-kim-dong 594\n",
      "DONE hai-duong/huyen-nam-sach 811\n",
      "quang-ninh/thanh-pho-ha-long 200\n",
      "ha-noi/quan-ba-dinh 200\n",
      "DONE quang-ninh/thanh-pho-uong-bi 1224\n",
      "ha-noi/quan-tay-ho 200\n",
      "DONE quang-ninh/huyen-binh-lieu 179\n",
      "DONE hung-yen/huyen-van-giang 980\n",
      "ha-noi/quan-nam-tu-liem 100\n",
      "DONE quang-ninh/huyen-hoanh-bo 522\n",
      "hai-duong/huyen-kinh-mon 100\n",
      "DONE hai-duong/huyen-kinh-mon 1735\n",
      "quang-ninh/thanh-pho-ha-long 300\n",
      "ha-noi/quan-ba-dinh 300\n"
     ]
    }
   ],
   "source": [
    "from multiprocessing import Pool\n",
    "p = Pool(7)"
   ]
  },
  {
   "cell_type": "code",
   "execution_count": 40,
   "metadata": {
    "ExecuteTime": {
     "end_time": "2019-06-26T12:49:02.749414Z",
     "start_time": "2019-06-26T12:49:02.745256Z"
    }
   },
   "outputs": [],
   "source": [
    "districts = num_records_by_districts.keys()"
   ]
  },
  {
   "cell_type": "code",
   "execution_count": null,
   "metadata": {
    "ExecuteTime": {
     "start_time": "2019-06-26T12:49:04.822Z"
    }
   },
   "outputs": [],
   "source": [
    "p.map(parse_districts, districts)"
   ]
  },
  {
   "cell_type": "code",
   "execution_count": null,
   "metadata": {},
   "outputs": [],
   "source": []
  }
 ],
 "metadata": {
  "kernelspec": {
   "display_name": "Python 3",
   "language": "python",
   "name": "python3"
  },
  "language_info": {
   "codemirror_mode": {
    "name": "ipython",
    "version": 3
   },
   "file_extension": ".py",
   "mimetype": "text/x-python",
   "name": "python",
   "nbconvert_exporter": "python",
   "pygments_lexer": "ipython3",
   "version": "3.7.1"
  },
  "toc": {
   "base_numbering": 1,
   "nav_menu": {},
   "number_sections": true,
   "sideBar": true,
   "skip_h1_title": false,
   "title_cell": "Table of Contents",
   "title_sidebar": "Contents",
   "toc_cell": false,
   "toc_position": {},
   "toc_section_display": true,
   "toc_window_display": false
  }
 },
 "nbformat": 4,
 "nbformat_minor": 2
}
