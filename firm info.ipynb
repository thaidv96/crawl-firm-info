{
 "cells": [
  {
   "cell_type": "code",
   "execution_count": 5,
   "metadata": {},
   "outputs": [],
   "source": [
    "import requests"
   ]
  },
  {
   "cell_type": "code",
   "execution_count": 6,
   "metadata": {},
   "outputs": [],
   "source": [
    "from bs4 import BeautifulSoup"
   ]
  },
  {
   "cell_type": "code",
   "execution_count": 7,
   "metadata": {},
   "outputs": [],
   "source": [
    "locations = 'Lào Cai, Yên Bái, Điện Biên, Hòa Bình, Lai Châu, Sơn La, Hà Giang, Cao Bằng, Bắc Kạn, Lạng Sơn, Tuyên Quang, Thái Nguyên, Phú Thọ, Bắc Giang, Quảng Ninh, Bắc Ninh, Hà Nam, Hà Nội, Hải Dương, Hưng Yên, Hải Phòng, Nam Định, Ninh Bình, Thái Bình, Vĩnh Phúc, Thanh Hoá , Nghệ An'"
   ]
  },
  {
   "cell_type": "code",
   "execution_count": 8,
   "metadata": {},
   "outputs": [],
   "source": [
    "import re\n",
    "import sys\n",
    "\n",
    "patterns = {\n",
    "    '[àáảãạăắằẵặẳâầấậẫẩ]': 'a',\n",
    "    '[đ]': 'd',\n",
    "    '[èéẻẽẹêềếểễệ]': 'e',\n",
    "    '[ìíỉĩị]': 'i',\n",
    "    '[òóỏõọôồốổỗộơờớởỡợ]': 'o',\n",
    "    '[ùúủũụưừứửữự]': 'u',\n",
    "    '[ỳýỷỹỵ]': 'y'\n",
    "}\n",
    "\n",
    "def convert(text):\n",
    "    \"\"\"\n",
    "    Convert from 'Tieng Viet co dau' thanh 'Tieng Viet khong dau'\n",
    "    text: input string to be converted\n",
    "    Return: string converted\n",
    "    \"\"\"\n",
    "    output = text\n",
    "    for regex, replace in patterns.items():\n",
    "        output = re.sub(regex, replace, output)\n",
    "        # deal with upper case\n",
    "        output = re.sub(regex.upper(), replace.upper(), output)\n",
    "    return output"
   ]
  },
  {
   "cell_type": "code",
   "execution_count": 9,
   "metadata": {},
   "outputs": [],
   "source": [
    "citys = convert(locations)\n",
    "citys = [i.lower().strip() for i in citys.split(\", \")]\n",
    "citys=['/' + i.replace(\" \",'-') for i in citys]\n",
    "citys2ids = requests.get(\"https://thongtindoanhnghiep.co/api/city\").json()['LtsItem']\n",
    "citys2ids = [i for i in citys2ids if i['SolrID'] in citys]"
   ]
  },
  {
   "cell_type": "code",
   "execution_count": 10,
   "metadata": {},
   "outputs": [],
   "source": [
    "districts = []\n",
    "for city in citys2ids:\n",
    "    city_id = city['ID']\n",
    "    url = f'https://thongtindoanhnghiep.co/api/city/{city_id}/district'\n",
    "    r = requests.get(url)\n",
    "    districts += r.json()\n",
    "    \n",
    "districts = [i['SolrID'][1:] for i in districts]"
   ]
  },
  {
   "cell_type": "code",
   "execution_count": null,
   "metadata": {},
   "outputs": [],
   "source": [
    "num_records_by_districts = {}\n",
    "e = 0\n",
    "for i in districts:\n",
    "    e+=1\n",
    "    if(e%20) == 0:\n",
    "        print(e)\n",
    "    url = f'https://thongtindoanhnghiep.co/api/company?l={i}'\n",
    "    r = requests.get(url).json()\n",
    "    num_records_by_districts[i] = r[\"Option\"]['TotalRow']\n",
    "    "
   ]
  },
  {
   "cell_type": "code",
   "execution_count": null,
   "metadata": {
    "scrolled": true
   },
   "outputs": [],
   "source": [
    "import pickle\n"
   ]
  },
  {
   "cell_type": "code",
   "execution_count": null,
   "metadata": {},
   "outputs": [],
   "source": []
  },
  {
   "cell_type": "code",
   "execution_count": 14,
   "metadata": {},
   "outputs": [],
   "source": [
    "def get_closed_date(tax_code):\n",
    "    url = f'https://thongtindoanhnghiep.co/api/company/{tax_code}'\n",
    "    r = requests.get(url).json()\n",
    "    closed_date = r['NgayDongMST']\n",
    "    return closed_date\n"
   ]
  },
  {
   "cell_type": "code",
   "execution_count": 1,
   "metadata": {},
   "outputs": [],
   "source": [
    "import time"
   ]
  },
  {
   "cell_type": "code",
   "execution_count": 2,
   "metadata": {},
   "outputs": [],
   "source": [
    "def parse_districts(district):\n",
    "    num_records = num_records_by_districts[district]\n",
    "    num_pages = num_records//100 + 2\n",
    "    for page in range(1,num_pages):\n",
    "        time.sleep(0.1)\n",
    "        url = f'https://thongtindoanhnghiep.co/api/company?r=100&p={page}&l={district}'\n",
    "        print(district, page)\n",
    "        try:\n",
    "            r = requests.get(url).json()['LtsItems']\n",
    "            res = [{'company_name': i['Title'], \n",
    "                      'location_detail': i['DiaChiCongTy'],\n",
    "                      'tax_code': i['MaSoThue'],\n",
    "                      'established_date': i['NgayCap'],\n",
    "                      'sector': i['NganhNgheTitle'],\n",
    "                      'province': i['TinhThanhTitle']\n",
    "                     } for i in r]\n",
    "            df = pd.DataFrame(res, columns=['company_name','province','location_detail', 'sector', 'tax_code', 'established_date'])\n",
    "            fn = district.split(\"/\")[0] + '.csv'\n",
    "            with open(fn, 'a') as f:\n",
    "                df.to_csv(f, index = False, header = False, sep='\\t')\n",
    "        except:\n",
    "            print('error', url)\n",
    "            with open(\"error.txt\",'a+') as f:\n",
    "                f.write(url)\n",
    "    print('DONE', district, num_records)"
   ]
  },
  {
   "cell_type": "code",
   "execution_count": 3,
   "metadata": {},
   "outputs": [],
   "source": [
    "from multiprocessing import Pool"
   ]
  },
  {
   "cell_type": "code",
   "execution_count": 4,
   "metadata": {},
   "outputs": [
    {
     "ename": "NameError",
     "evalue": "name 'districts' is not defined",
     "output_type": "error",
     "traceback": [
      "\u001b[0;31m---------------------------------------------------------------------------\u001b[0m",
      "\u001b[0;31mNameError\u001b[0m                                 Traceback (most recent call last)",
      "\u001b[0;32m<ipython-input-4-0c6eab7cfa41>\u001b[0m in \u001b[0;36m<module>\u001b[0;34m\u001b[0m\n\u001b[1;32m      1\u001b[0m \u001b[0mp\u001b[0m \u001b[0;34m=\u001b[0m \u001b[0mPool\u001b[0m\u001b[0;34m(\u001b[0m\u001b[0;36m8\u001b[0m\u001b[0;34m)\u001b[0m\u001b[0;34m\u001b[0m\u001b[0;34m\u001b[0m\u001b[0m\n\u001b[0;32m----> 2\u001b[0;31m \u001b[0mp\u001b[0m\u001b[0;34m.\u001b[0m\u001b[0mmap\u001b[0m\u001b[0;34m(\u001b[0m\u001b[0mparse_districts\u001b[0m\u001b[0;34m,\u001b[0m\u001b[0mdistricts\u001b[0m \u001b[0;34m)\u001b[0m\u001b[0;34m\u001b[0m\u001b[0;34m\u001b[0m\u001b[0m\n\u001b[0m",
      "\u001b[0;31mNameError\u001b[0m: name 'districts' is not defined"
     ]
    }
   ],
   "source": [
    "p = Pool(8)\n",
    "p.map(parse_districts,districts )"
   ]
  },
  {
   "cell_type": "code",
   "execution_count": null,
   "metadata": {},
   "outputs": [],
   "source": []
  }
 ],
 "metadata": {
  "kernelspec": {
   "display_name": "Python 3",
   "language": "python",
   "name": "python3"
  },
  "language_info": {
   "codemirror_mode": {
    "name": "ipython",
    "version": 3
   },
   "file_extension": ".py",
   "mimetype": "text/x-python",
   "name": "python",
   "nbconvert_exporter": "python",
   "pygments_lexer": "ipython3",
   "version": "3.7.3"
  }
 },
 "nbformat": 4,
 "nbformat_minor": 2
}
