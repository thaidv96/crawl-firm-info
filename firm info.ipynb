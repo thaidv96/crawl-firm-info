{
 "cells": [
  {
   "cell_type": "code",
   "execution_count": 1,
   "metadata": {
    "ExecuteTime": {
     "end_time": "2019-06-27T00:33:41.209287Z",
     "start_time": "2019-06-27T00:33:40.840155Z"
    }
   },
   "outputs": [],
   "source": [
    "import requests"
   ]
  },
  {
   "cell_type": "code",
   "execution_count": 2,
   "metadata": {
    "ExecuteTime": {
     "end_time": "2019-06-27T00:33:41.464074Z",
     "start_time": "2019-06-27T00:33:41.212802Z"
    }
   },
   "outputs": [],
   "source": [
    "from bs4 import BeautifulSoup"
   ]
  },
  {
   "cell_type": "code",
   "execution_count": 3,
   "metadata": {
    "ExecuteTime": {
     "end_time": "2019-06-27T00:33:41.481770Z",
     "start_time": "2019-06-27T00:33:41.473600Z"
    }
   },
   "outputs": [],
   "source": [
    "locations = 'Lào Cai, Yên Bái, Điện Biên, Hòa Bình, Lai Châu, Sơn La, Hà Giang, Cao Bằng, Bắc Kạn, Lạng Sơn, Tuyên Quang, Thái Nguyên, Phú Thọ, Bắc Giang, Quảng Ninh, Bắc Ninh, Hà Nam, Hà Nội, Hải Dương, Hưng Yên, Hải Phòng, Nam Định, Ninh Bình, Thái Bình, Vĩnh Phúc, Thanh Hoá , Nghệ An'"
   ]
  },
  {
   "cell_type": "code",
   "execution_count": 4,
   "metadata": {
    "ExecuteTime": {
     "end_time": "2019-06-27T00:33:41.650620Z",
     "start_time": "2019-06-27T00:33:41.484521Z"
    }
   },
   "outputs": [],
   "source": [
    "import re\n",
    "import sys\n",
    "\n",
    "patterns = {\n",
    "    '[àáảãạăắằẵặẳâầấậẫẩ]': 'a',\n",
    "    '[đ]': 'd',\n",
    "    '[èéẻẽẹêềếểễệ]': 'e',\n",
    "    '[ìíỉĩị]': 'i',\n",
    "    '[òóỏõọôồốổỗộơờớởỡợ]': 'o',\n",
    "    '[ùúủũụưừứửữự]': 'u',\n",
    "    '[ỳýỷỹỵ]': 'y'\n",
    "}\n",
    "\n",
    "def convert(text):\n",
    "    \"\"\"\n",
    "    Convert from 'Tieng Viet co dau' thanh 'Tieng Viet khong dau'\n",
    "    text: input string to be converted\n",
    "    Return: string converted\n",
    "    \"\"\"\n",
    "    output = text\n",
    "    for regex, replace in patterns.items():\n",
    "        output = re.sub(regex, replace, output)\n",
    "        # deal with upper case\n",
    "        output = re.sub(regex.upper(), replace.upper(), output)\n",
    "    return output"
   ]
  },
  {
   "cell_type": "code",
   "execution_count": 5,
   "metadata": {
    "ExecuteTime": {
     "end_time": "2019-06-27T00:33:41.826767Z",
     "start_time": "2019-06-27T00:33:41.654328Z"
    }
   },
   "outputs": [],
   "source": [
    "citys = convert(locations)\n",
    "citys = [i.lower().strip() for i in citys.split(\", \")]\n",
    "citys=['/' + i.replace(\" \",'-') for i in citys]\n",
    "citys2ids = requests.get(\"https://thongtindoanhnghiep.co/api/city\").json()['LtsItem']\n",
    "citys2ids = [i for i in citys2ids if i['SolrID'] in citys]"
   ]
  },
  {
   "cell_type": "code",
   "execution_count": 6,
   "metadata": {
    "ExecuteTime": {
     "end_time": "2019-06-27T00:33:41.831849Z",
     "start_time": "2019-06-27T00:33:41.829728Z"
    }
   },
   "outputs": [],
   "source": [
    "# districts = []\n",
    "# for city in citys2ids:\n",
    "#     city_id = city['ID']\n",
    "#     url = f'https://thongtindoanhnghiep.co/api/city/{city_id}/district'\n",
    "#     r = requests.get(url)\n",
    "#     districts += r.json()\n",
    "    \n",
    "# districts = [i['SolrID'][1:] for i in districts]"
   ]
  },
  {
   "cell_type": "code",
   "execution_count": 7,
   "metadata": {
    "ExecuteTime": {
     "end_time": "2019-06-27T00:33:41.841907Z",
     "start_time": "2019-06-27T00:33:41.833768Z"
    },
    "scrolled": true
   },
   "outputs": [],
   "source": [
    "# num_records_by_districts = {}\n",
    "# e = 0\n",
    "# for i in districts:\n",
    "#     e+=1\n",
    "#     if(e%20) == 0:\n",
    "#         print(e)\n",
    "#     url = f'https://thongtindoanhnghiep.co/api/company?l={i}'\n",
    "#     r = requests.get(url).json()\n",
    "#     num_records_by_districts[i] = r[\"Option\"]['TotalRow']\n",
    "    "
   ]
  },
  {
   "cell_type": "code",
   "execution_count": 8,
   "metadata": {
    "ExecuteTime": {
     "end_time": "2019-06-27T00:33:41.852087Z",
     "start_time": "2019-06-27T00:33:41.844441Z"
    },
    "scrolled": true
   },
   "outputs": [],
   "source": [
    "import pickle\n",
    "\n",
    "# with open('num_records_by_districts.pickle', 'wb') as handle:\n",
    "#     pickle.dump(num_records_by_districts, handle, protocol=pickle.HIGHEST_PROTOCOL)\n"
   ]
  },
  {
   "cell_type": "code",
   "execution_count": 9,
   "metadata": {
    "ExecuteTime": {
     "end_time": "2019-06-27T00:33:41.862787Z",
     "start_time": "2019-06-27T00:33:41.853988Z"
    }
   },
   "outputs": [],
   "source": [
    "\n",
    "with open('num_records_by_districts.pickle', 'rb') as handle:\n",
    "    num_records_by_districts = pickle.load(handle)\n",
    "\n"
   ]
  },
  {
   "cell_type": "code",
   "execution_count": 10,
   "metadata": {
    "ExecuteTime": {
     "end_time": "2019-06-27T00:33:41.879000Z",
     "start_time": "2019-06-27T00:33:41.865193Z"
    }
   },
   "outputs": [],
   "source": [
    "def get_closed_date(tax_code):\n",
    "    url = f'https://thongtindoanhnghiep.co/api/company/{tax_code}'\n",
    "    r = requests.get(url).json()\n",
    "    closed_date = r['NgayDongMST']\n",
    "    return closed_date\n"
   ]
  },
  {
   "cell_type": "code",
   "execution_count": 11,
   "metadata": {
    "ExecuteTime": {
     "end_time": "2019-06-27T00:33:42.429780Z",
     "start_time": "2019-06-27T00:33:41.881941Z"
    }
   },
   "outputs": [],
   "source": [
    "import random\n",
    "import time\n",
    "import pandas as pd"
   ]
  },
  {
   "cell_type": "code",
   "execution_count": 12,
   "metadata": {
    "ExecuteTime": {
     "end_time": "2019-06-27T00:33:42.449965Z",
     "start_time": "2019-06-27T00:33:42.431673Z"
    }
   },
   "outputs": [],
   "source": [
    "def parse_districts_html(district):\n",
    "    num_records = num_records_by_districts[district]\n",
    "    num_pages = num_records//15 + 2\n",
    "    for page in range(1,num_pages):\n",
    "        time.sleep(0.1)\n",
    "        url = f'https://thongtindoanhnghiep.co/{district}?p={page}'\n",
    "        r = requests.get(url)\n",
    "        soup = BeautifulSoup(r.content)\n",
    "        firms = soup.findAll(\"div\", attrs={'class':'news-v3 bg-color-white'})\n",
    "        res = [{'company_name': firm.find(\"h2\").text, \n",
    "                  'location_detail': firm.findAll(\"strong\")[-2].text,\n",
    "                  'tax_code': firm.findAll(\"strong\")[0].text,\n",
    "                  'established_date': firm.findAll('p')[1].text.split(\" \")[-1],\n",
    "                  'sector': firm.findAll(\"strong\")[-1].text,\n",
    "                  'province': firm.findAll(\"strong\")[1].text\n",
    "                 } for firm in firms]\n",
    "        df = pd.DataFrame(res, columns=['company_name','province','location_detail', 'sector', 'tax_code', 'established_date'])\n",
    "        fn = district.split(\"/\")[0] + '.csv'\n",
    "        with open('./crawled/'+fn, 'a') as f:\n",
    "            df.to_csv(f, index = False, header = False, sep='\\t')\n",
    "    print('DONE', district, num_records)"
   ]
  },
  {
   "cell_type": "code",
   "execution_count": 13,
   "metadata": {
    "ExecuteTime": {
     "end_time": "2019-06-27T00:33:42.471460Z",
     "start_time": "2019-06-27T00:33:42.452375Z"
    }
   },
   "outputs": [],
   "source": [
    "def parse_districts_api(district):\n",
    "    num_records = num_records_by_districts[district]\n",
    "    sleep = random.randint(1,10)\n",
    "    time.sleep(sleep)\n",
    "    num_pages = num_records//100 + 2\n",
    "    for page in range(1,num_pages):\n",
    "        time.sleep(0.1)\n",
    "        url = f'https://thongtindoanhnghiep.co/api/company?r=100&p={page}&l={district}'\n",
    "        try:\n",
    "            r = requests.get(url).json()['LtsItems']\n",
    "            res = [{'company_name': i['Title'], \n",
    "                      'location_detail': i['DiaChiCongTy'],\n",
    "                      'tax_code': i['MaSoThue'],\n",
    "                      'established_date': i['NgayCap'],\n",
    "                      'sector': i['NganhNgheTitle'],\n",
    "                      'province': i['TinhThanhTitle']\n",
    "                     } for i in r]\n",
    "            df = pd.DataFrame(res, columns=['company_name','province','location_detail', 'sector', 'tax_code', 'established_date'])\n",
    "            fn = district.split(\"/\")[0] + '.csv'\n",
    "            with open('./crawled/' + fn, 'a') as f:\n",
    "                df.to_csv(f, index = False, header = False, sep='\\t')\n",
    "        except:\n",
    "            with open(\"./error.txt\", 'a+') as f:\n",
    "                print('error', url)\n",
    "\n",
    "                time.sleep(120)\n",
    "                f.write(f'{url}\\n')\n",
    "    print('DONE', district, num_records)"
   ]
  },
  {
   "cell_type": "code",
   "execution_count": 14,
   "metadata": {
    "ExecuteTime": {
     "end_time": "2019-06-27T00:33:42.546392Z",
     "start_time": "2019-06-27T00:33:42.477281Z"
    },
    "scrolled": true
   },
   "outputs": [
    {
     "name": "stdout",
     "output_type": "stream",
     "text": [
      "error https://thongtindoanhnghiep.co/api/company?r=100&p=1&l=ha-noi/quan-dong-da\n",
      "error https://thongtindoanhnghiep.co/api/company?r=100&p=7&l=ha-noi/quan-cau-giay\n"
     ]
    }
   ],
   "source": [
    "from multiprocessing import Pool\n",
    "p = Pool(7)"
   ]
  },
  {
   "cell_type": "code",
   "execution_count": 15,
   "metadata": {
    "ExecuteTime": {
     "end_time": "2019-06-27T00:33:42.552389Z",
     "start_time": "2019-06-27T00:33:42.549033Z"
    }
   },
   "outputs": [],
   "source": [
    "districts = num_records_by_districts.keys()"
   ]
  },
  {
   "cell_type": "code",
   "execution_count": 16,
   "metadata": {
    "ExecuteTime": {
     "end_time": "2019-06-27T00:33:42.566032Z",
     "start_time": "2019-06-27T00:33:42.558688Z"
    }
   },
   "outputs": [],
   "source": [
    "# p.map(parse_districts, [i for i in districts if num_records_by_districts[i] < 10000])"
   ]
  },
  {
   "cell_type": "code",
   "execution_count": null,
   "metadata": {
    "ExecuteTime": {
     "start_time": "2019-06-27T00:33:40.872Z"
    }
   },
   "outputs": [],
   "source": [
    "remaining = [i for i in districts if i.startswith('ha-noi')]"
   ]
  },
  {
   "cell_type": "code",
   "execution_count": null,
   "metadata": {
    "ExecuteTime": {
     "start_time": "2019-06-27T00:33:40.878Z"
    }
   },
   "outputs": [],
   "source": [
    "p.map(parse_districts_api, remaining)"
   ]
  },
  {
   "cell_type": "code",
   "execution_count": null,
   "metadata": {
    "ExecuteTime": {
     "start_time": "2019-06-27T00:33:40.881Z"
    }
   },
   "outputs": [],
   "source": [
    "print('a')"
   ]
  },
  {
   "cell_type": "code",
   "execution_count": null,
   "metadata": {},
   "outputs": [],
   "source": []
  }
 ],
 "metadata": {
  "kernelspec": {
   "display_name": "Python 3",
   "language": "python",
   "name": "python3"
  },
  "language_info": {
   "codemirror_mode": {
    "name": "ipython",
    "version": 3
   },
   "file_extension": ".py",
   "mimetype": "text/x-python",
   "name": "python",
   "nbconvert_exporter": "python",
   "pygments_lexer": "ipython3",
   "version": "3.7.1"
  },
  "toc": {
   "base_numbering": 1,
   "nav_menu": {},
   "number_sections": true,
   "sideBar": true,
   "skip_h1_title": false,
   "title_cell": "Table of Contents",
   "title_sidebar": "Contents",
   "toc_cell": false,
   "toc_position": {},
   "toc_section_display": true,
   "toc_window_display": false
  }
 },
 "nbformat": 4,
 "nbformat_minor": 2
}
