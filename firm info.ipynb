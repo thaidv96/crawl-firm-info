{
 "cells": [
  {
   "cell_type": "code",
   "execution_count": 5,
   "metadata": {},
   "outputs": [],
   "source": [
    "import requests"
   ]
  },
  {
   "cell_type": "code",
   "execution_count": 6,
   "metadata": {},
   "outputs": [],
   "source": [
    "from bs4 import BeautifulSoup"
   ]
  },
  {
   "cell_type": "code",
   "execution_count": 7,
   "metadata": {},
   "outputs": [],
   "source": [
    "locations = 'Lào Cai, Yên Bái, Điện Biên, Hòa Bình, Lai Châu, Sơn La, Hà Giang, Cao Bằng, Bắc Kạn, Lạng Sơn, Tuyên Quang, Thái Nguyên, Phú Thọ, Bắc Giang, Quảng Ninh, Bắc Ninh, Hà Nam, Hà Nội, Hải Dương, Hưng Yên, Hải Phòng, Nam Định, Ninh Bình, Thái Bình, Vĩnh Phúc, Thanh Hoá , Nghệ An'"
   ]
  },
  {
   "cell_type": "code",
   "execution_count": 8,
   "metadata": {},
   "outputs": [],
   "source": [
    "import re\n",
    "import sys\n",
    "\n",
    "patterns = {\n",
    "    '[àáảãạăắằẵặẳâầấậẫẩ]': 'a',\n",
    "    '[đ]': 'd',\n",
    "    '[èéẻẽẹêềếểễệ]': 'e',\n",
    "    '[ìíỉĩị]': 'i',\n",
    "    '[òóỏõọôồốổỗộơờớởỡợ]': 'o',\n",
    "    '[ùúủũụưừứửữự]': 'u',\n",
    "    '[ỳýỷỹỵ]': 'y'\n",
    "}\n",
    "\n",
    "def convert(text):\n",
    "    \"\"\"\n",
    "    Convert from 'Tieng Viet co dau' thanh 'Tieng Viet khong dau'\n",
    "    text: input string to be converted\n",
    "    Return: string converted\n",
    "    \"\"\"\n",
    "    output = text\n",
    "    for regex, replace in patterns.items():\n",
    "        output = re.sub(regex, replace, output)\n",
    "        # deal with upper case\n",
    "        output = re.sub(regex.upper(), replace.upper(), output)\n",
    "    return output"
   ]
  },
  {
   "cell_type": "code",
   "execution_count": 9,
   "metadata": {},
   "outputs": [],
   "source": [
    "citys = convert(locations)\n",
    "citys = [i.lower().strip() for i in citys.split(\", \")]\n",
    "citys=['/' + i.replace(\" \",'-') for i in citys]\n",
    "citys2ids = requests.get(\"https://thongtindoanhnghiep.co/api/city\").json()['LtsItem']\n",
    "citys2ids = [i for i in citys2ids if i['SolrID'] in citys]"
   ]
  },
  {
   "cell_type": "code",
   "execution_count": 10,
   "metadata": {},
   "outputs": [],
   "source": [
    "districts = []\n",
    "for city in citys2ids:\n",
    "    city_id = city['ID']\n",
    "    url = f'https://thongtindoanhnghiep.co/api/city/{city_id}/district'\n",
    "    r = requests.get(url)\n",
    "    districts += r.json()\n",
    "    \n",
    "districts = [i['SolrID'][1:] for i in districts]"
   ]
  },
  {
   "cell_type": "code",
   "execution_count": 11,
   "metadata": {
    "scrolled": true
   },
   "outputs": [
    {
     "name": "stdout",
     "output_type": "stream",
     "text": [
      "20\n",
      "40\n",
      "60\n",
      "80\n",
      "100\n",
      "120\n",
      "140\n",
      "160\n",
      "180\n",
      "200\n",
      "220\n",
      "240\n",
      "260\n",
      "280\n",
      "300\n",
      "320\n",
      "340\n"
     ]
    }
   ],
   "source": [
    "num_records_by_districts = {}\n",
    "e = 0\n",
    "for i in districts:\n",
    "    e+=1\n",
    "    if(e%20) == 0:\n",
    "        print(e)\n",
    "    url = f'https://thongtindoanhnghiep.co/api/company?l={i}'\n",
    "    r = requests.get(url).json()\n",
    "    num_records_by_districts[i] = r[\"Option\"]['TotalRow']\n",
    "    "
   ]
  },
  {
   "cell_type": "code",
   "execution_count": 13,
   "metadata": {
    "scrolled": true
   },
   "outputs": [],
   "source": [
    "import pickle\n",
    "\n",
    "with open('num_records_by_districts.pickle', 'wb') as handle:\n",
    "    pickle.dump(num_records_by_districts, handle, protocol=pickle.HIGHEST_PROTOCOL)\n"
   ]
  },
  {
   "cell_type": "code",
   "execution_count": 14,
   "metadata": {},
   "outputs": [],
   "source": [
    "\n",
    "with open('num_records_by_districts.pickle', 'rb') as handle:\n",
    "    num_records_by_districts = pickle.load(handle)\n",
    "\n"
   ]
  },
  {
   "cell_type": "code",
   "execution_count": 15,
   "metadata": {},
   "outputs": [],
   "source": [
    "def get_closed_date(tax_code):\n",
    "    url = f'https://thongtindoanhnghiep.co/api/company/{tax_code}'\n",
    "    r = requests.get(url).json()\n",
    "    closed_date = r['NgayDongMST']\n",
    "    return closed_date\n"
   ]
  },
  {
   "cell_type": "code",
   "execution_count": 19,
   "metadata": {},
   "outputs": [],
   "source": [
    "import random"
   ]
  },
  {
   "cell_type": "code",
   "execution_count": 27,
   "metadata": {},
   "outputs": [],
   "source": [
    "def parse_districts(district):\n",
    "    num_records = num_records_by_districts[district]\n",
    "    sleep = random.randint(1,10)\n",
    "    time.sleep(sleep)\n",
    "    num_pages = num_records//100 + 2\n",
    "    for page in range(1,num_pages):\n",
    "        time.sleep(0.1)\n",
    "        url = f'https://thongtindoanhnghiep.co/api/company?r=100&p={page}&l={district}'\n",
    "        print(district, page)\n",
    "        try:\n",
    "            r = requests.get(url).json()['LtsItems']\n",
    "            res = [{'company_name': i['Title'], \n",
    "                      'location_detail': i['DiaChiCongTy'],\n",
    "                      'tax_code': i['MaSoThue'],\n",
    "                      'established_date': i['NgayCap'],\n",
    "                      'sector': i['NganhNgheTitle'],\n",
    "                      'province': i['TinhThanhTitle']\n",
    "                     } for i in r]\n",
    "            df = pd.DataFrame(res, columns=['company_name','province','location_detail', 'sector', 'tax_code', 'established_date'])\n",
    "            fn = district.split(\"/\")[0] + '.csv'\n",
    "            with open(fn, 'a') as f:\n",
    "                df.to_csv(f, index = False, header = False, sep='\\t')\n",
    "        except:\n",
    "            print('error', url)\n",
    "            with open(\"error.txt\",'a+') as f:\n",
    "                f.write(url)\n",
    "    print('DONE', district, num_records)"
   ]
  },
  {
   "cell_type": "code",
   "execution_count": 31,
   "metadata": {
    "scrolled": true
   },
   "outputs": [
    {
     "name": "stdout",
     "output_type": "stream",
     "text": [
      "hung-yen/huyen-an-thi 1\n",
      "error https://thongtindoanhnghiep.co/api/company?r=100&p=1&l=hung-yen/huyen-an-thi\n",
      "hung-yen/huyen-an-thi 2\n",
      "error https://thongtindoanhnghiep.co/api/company?r=100&p=2&l=hung-yen/huyen-an-thi\n",
      "hung-yen/huyen-an-thi 3\n",
      "error https://thongtindoanhnghiep.co/api/company?r=100&p=3&l=hung-yen/huyen-an-thi\n",
      "hung-yen/huyen-an-thi 4\n",
      "error https://thongtindoanhnghiep.co/api/company?r=100&p=4&l=hung-yen/huyen-an-thi\n",
      "hung-yen/huyen-an-thi 5\n",
      "error https://thongtindoanhnghiep.co/api/company?r=100&p=5&l=hung-yen/huyen-an-thi\n",
      "DONE hung-yen/huyen-an-thi 493\n",
      "hung-yen/huyen-khoai-chau 1\n",
      "error https://thongtindoanhnghiep.co/api/company?r=100&p=1&l=hung-yen/huyen-khoai-chau\n",
      "hung-yen/huyen-khoai-chau 2\n",
      "error https://thongtindoanhnghiep.co/api/company?r=100&p=2&l=hung-yen/huyen-khoai-chau\n",
      "hung-yen/huyen-khoai-chau 3\n",
      "error https://thongtindoanhnghiep.co/api/company?r=100&p=3&l=hung-yen/huyen-khoai-chau\n",
      "hung-yen/huyen-khoai-chau 4\n",
      "error https://thongtindoanhnghiep.co/api/company?r=100&p=4&l=hung-yen/huyen-khoai-chau\n",
      "hung-yen/huyen-khoai-chau 5\n",
      "error https://thongtindoanhnghiep.co/api/company?r=100&p=5&l=hung-yen/huyen-khoai-chau\n",
      "hung-yen/huyen-khoai-chau 6\n",
      "error https://thongtindoanhnghiep.co/api/company?r=100&p=6&l=hung-yen/huyen-khoai-chau\n",
      "hung-yen/huyen-khoai-chau 7\n",
      "error https://thongtindoanhnghiep.co/api/company?r=100&p=7&l=hung-yen/huyen-khoai-chau\n",
      "hung-yen/huyen-khoai-chau 8\n",
      "error https://thongtindoanhnghiep.co/api/company?r=100&p=8&l=hung-yen/huyen-khoai-chau\n",
      "hung-yen/huyen-khoai-chau 9\n",
      "error https://thongtindoanhnghiep.co/api/company?r=100&p=9&l=hung-yen/huyen-khoai-chau\n",
      "hung-yen/huyen-khoai-chau 10\n",
      "error https://thongtindoanhnghiep.co/api/company?r=100&p=10&l=hung-yen/huyen-khoai-chau\n",
      "hung-yen/huyen-khoai-chau 11\n",
      "error https://thongtindoanhnghiep.co/api/company?r=100&p=11&l=hung-yen/huyen-khoai-chau\n",
      "hung-yen/huyen-khoai-chau 12\n",
      "error https://thongtindoanhnghiep.co/api/company?r=100&p=12&l=hung-yen/huyen-khoai-chau\n",
      "hung-yen/huyen-khoai-chau 13\n",
      "error https://thongtindoanhnghiep.co/api/company?r=100&p=13&l=hung-yen/huyen-khoai-chau\n",
      "DONE hung-yen/huyen-khoai-chau 1241\n",
      "hung-yen/huyen-phu-cu 1\n",
      "error https://thongtindoanhnghiep.co/api/company?r=100&p=1&l=hung-yen/huyen-phu-cu\n",
      "hung-yen/huyen-phu-cu 2\n",
      "error https://thongtindoanhnghiep.co/api/company?r=100&p=2&l=hung-yen/huyen-phu-cu\n",
      "hung-yen/huyen-phu-cu 3\n",
      "error https://thongtindoanhnghiep.co/api/company?r=100&p=3&l=hung-yen/huyen-phu-cu\n",
      "hung-yen/huyen-phu-cu 4\n",
      "error https://thongtindoanhnghiep.co/api/company?r=100&p=4&l=hung-yen/huyen-phu-cu\n",
      "DONE hung-yen/huyen-phu-cu 338\n",
      "hung-yen/huyen-kim-dong 1\n",
      "error https://thongtindoanhnghiep.co/api/company?r=100&p=1&l=hung-yen/huyen-kim-dong\n",
      "hung-yen/huyen-kim-dong 2\n",
      "error https://thongtindoanhnghiep.co/api/company?r=100&p=2&l=hung-yen/huyen-kim-dong\n",
      "hung-yen/huyen-kim-dong 3\n",
      "error https://thongtindoanhnghiep.co/api/company?r=100&p=3&l=hung-yen/huyen-kim-dong\n",
      "hung-yen/huyen-kim-dong 4\n",
      "error https://thongtindoanhnghiep.co/api/company?r=100&p=4&l=hung-yen/huyen-kim-dong\n",
      "hung-yen/huyen-kim-dong 5\n",
      "error https://thongtindoanhnghiep.co/api/company?r=100&p=5&l=hung-yen/huyen-kim-dong\n",
      "hung-yen/huyen-kim-dong 6\n",
      "error https://thongtindoanhnghiep.co/api/company?r=100&p=6&l=hung-yen/huyen-kim-dong\n",
      "DONE hung-yen/huyen-kim-dong 594\n",
      "hung-yen/huyen-van-giang 1\n",
      "error https://thongtindoanhnghiep.co/api/company?r=100&p=1&l=hung-yen/huyen-van-giang\n",
      "hung-yen/huyen-van-giang 2\n",
      "error https://thongtindoanhnghiep.co/api/company?r=100&p=2&l=hung-yen/huyen-van-giang\n",
      "hung-yen/huyen-van-giang 3\n",
      "error https://thongtindoanhnghiep.co/api/company?r=100&p=3&l=hung-yen/huyen-van-giang\n",
      "hung-yen/huyen-van-giang 4\n",
      "error https://thongtindoanhnghiep.co/api/company?r=100&p=4&l=hung-yen/huyen-van-giang\n",
      "hung-yen/huyen-van-giang 5\n",
      "error https://thongtindoanhnghiep.co/api/company?r=100&p=5&l=hung-yen/huyen-van-giang\n",
      "hung-yen/huyen-van-giang 6\n",
      "error https://thongtindoanhnghiep.co/api/company?r=100&p=6&l=hung-yen/huyen-van-giang\n",
      "hung-yen/huyen-van-giang 7\n",
      "error https://thongtindoanhnghiep.co/api/company?r=100&p=7&l=hung-yen/huyen-van-giang\n",
      "hung-yen/huyen-van-giang 8\n",
      "error https://thongtindoanhnghiep.co/api/company?r=100&p=8&l=hung-yen/huyen-van-giang\n",
      "hung-yen/huyen-van-giang 9\n",
      "error https://thongtindoanhnghiep.co/api/company?r=100&p=9&l=hung-yen/huyen-van-giang\n",
      "hung-yen/huyen-van-giang 10\n",
      "error https://thongtindoanhnghiep.co/api/company?r=100&p=10&l=hung-yen/huyen-van-giang\n",
      "DONE hung-yen/huyen-van-giang 980\n",
      "hung-yen/huyen-my-hao 1\n",
      "error https://thongtindoanhnghiep.co/api/company?r=100&p=1&l=hung-yen/huyen-my-hao\n",
      "hung-yen/huyen-my-hao 2\n",
      "error https://thongtindoanhnghiep.co/api/company?r=100&p=2&l=hung-yen/huyen-my-hao\n",
      "hung-yen/huyen-my-hao 3\n",
      "error https://thongtindoanhnghiep.co/api/company?r=100&p=3&l=hung-yen/huyen-my-hao\n",
      "hung-yen/huyen-my-hao 4\n",
      "error https://thongtindoanhnghiep.co/api/company?r=100&p=4&l=hung-yen/huyen-my-hao\n",
      "hung-yen/huyen-my-hao 5\n",
      "error https://thongtindoanhnghiep.co/api/company?r=100&p=5&l=hung-yen/huyen-my-hao\n",
      "hung-yen/huyen-my-hao 6\n",
      "error https://thongtindoanhnghiep.co/api/company?r=100&p=6&l=hung-yen/huyen-my-hao\n",
      "hung-yen/huyen-my-hao 7\n",
      "error https://thongtindoanhnghiep.co/api/company?r=100&p=7&l=hung-yen/huyen-my-hao\n",
      "hung-yen/huyen-my-hao 8\n",
      "error https://thongtindoanhnghiep.co/api/company?r=100&p=8&l=hung-yen/huyen-my-hao\n",
      "hung-yen/huyen-my-hao 9\n",
      "error https://thongtindoanhnghiep.co/api/company?r=100&p=9&l=hung-yen/huyen-my-hao\n",
      "hung-yen/huyen-my-hao 10\n",
      "error https://thongtindoanhnghiep.co/api/company?r=100&p=10&l=hung-yen/huyen-my-hao\n",
      "hung-yen/huyen-my-hao 11\n",
      "error https://thongtindoanhnghiep.co/api/company?r=100&p=11&l=hung-yen/huyen-my-hao\n",
      "hung-yen/huyen-my-hao 12\n",
      "error https://thongtindoanhnghiep.co/api/company?r=100&p=12&l=hung-yen/huyen-my-hao\n",
      "hung-yen/huyen-my-hao 13\n",
      "error https://thongtindoanhnghiep.co/api/company?r=100&p=13&l=hung-yen/huyen-my-hao\n",
      "hung-yen/huyen-my-hao 14\n",
      "error https://thongtindoanhnghiep.co/api/company?r=100&p=14&l=hung-yen/huyen-my-hao\n",
      "hung-yen/huyen-my-hao 15\n",
      "error https://thongtindoanhnghiep.co/api/company?r=100&p=15&l=hung-yen/huyen-my-hao\n",
      "hung-yen/huyen-my-hao 16\n",
      "error https://thongtindoanhnghiep.co/api/company?r=100&p=16&l=hung-yen/huyen-my-hao\n",
      "hung-yen/huyen-my-hao 17\n",
      "error https://thongtindoanhnghiep.co/api/company?r=100&p=17&l=hung-yen/huyen-my-hao\n",
      "DONE hung-yen/huyen-my-hao 1669\n"
     ]
    },
    {
     "ename": "KeyboardInterrupt",
     "evalue": "",
     "output_type": "error",
     "traceback": [
      "\u001b[0;31m---------------------------------------------------------------------------\u001b[0m",
      "\u001b[0;31mKeyboardInterrupt\u001b[0m                         Traceback (most recent call last)",
      "\u001b[0;32m<ipython-input-31-e597ec531b46>\u001b[0m in \u001b[0;36m<module>\u001b[0;34m\u001b[0m\n\u001b[1;32m      1\u001b[0m \u001b[0;32mfor\u001b[0m \u001b[0mdistrict\u001b[0m \u001b[0;32min\u001b[0m \u001b[0mdistricts\u001b[0m\u001b[0;34m:\u001b[0m\u001b[0;34m\u001b[0m\u001b[0;34m\u001b[0m\u001b[0m\n\u001b[0;32m----> 2\u001b[0;31m     \u001b[0mparse_districts\u001b[0m\u001b[0;34m(\u001b[0m\u001b[0mdistrict\u001b[0m\u001b[0;34m)\u001b[0m\u001b[0;34m\u001b[0m\u001b[0;34m\u001b[0m\u001b[0m\n\u001b[0m",
      "\u001b[0;32m<ipython-input-27-70f87f3658bf>\u001b[0m in \u001b[0;36mparse_districts\u001b[0;34m(district)\u001b[0m\n\u001b[1;32m      2\u001b[0m     \u001b[0mnum_records\u001b[0m \u001b[0;34m=\u001b[0m \u001b[0mnum_records_by_districts\u001b[0m\u001b[0;34m[\u001b[0m\u001b[0mdistrict\u001b[0m\u001b[0;34m]\u001b[0m\u001b[0;34m\u001b[0m\u001b[0;34m\u001b[0m\u001b[0m\n\u001b[1;32m      3\u001b[0m     \u001b[0msleep\u001b[0m \u001b[0;34m=\u001b[0m \u001b[0mrandom\u001b[0m\u001b[0;34m.\u001b[0m\u001b[0mrandint\u001b[0m\u001b[0;34m(\u001b[0m\u001b[0;36m1\u001b[0m\u001b[0;34m,\u001b[0m\u001b[0;36m10\u001b[0m\u001b[0;34m)\u001b[0m\u001b[0;34m\u001b[0m\u001b[0;34m\u001b[0m\u001b[0m\n\u001b[0;32m----> 4\u001b[0;31m     \u001b[0mtime\u001b[0m\u001b[0;34m.\u001b[0m\u001b[0msleep\u001b[0m\u001b[0;34m(\u001b[0m\u001b[0msleep\u001b[0m\u001b[0;34m)\u001b[0m\u001b[0;34m\u001b[0m\u001b[0;34m\u001b[0m\u001b[0m\n\u001b[0m\u001b[1;32m      5\u001b[0m     \u001b[0mnum_pages\u001b[0m \u001b[0;34m=\u001b[0m \u001b[0mnum_records\u001b[0m\u001b[0;34m//\u001b[0m\u001b[0;36m100\u001b[0m \u001b[0;34m+\u001b[0m \u001b[0;36m2\u001b[0m\u001b[0;34m\u001b[0m\u001b[0;34m\u001b[0m\u001b[0m\n\u001b[1;32m      6\u001b[0m     \u001b[0;32mfor\u001b[0m \u001b[0mpage\u001b[0m \u001b[0;32min\u001b[0m \u001b[0mrange\u001b[0m\u001b[0;34m(\u001b[0m\u001b[0;36m1\u001b[0m\u001b[0;34m,\u001b[0m\u001b[0mnum_pages\u001b[0m\u001b[0;34m)\u001b[0m\u001b[0;34m:\u001b[0m\u001b[0;34m\u001b[0m\u001b[0;34m\u001b[0m\u001b[0m\n",
      "\u001b[0;31mKeyboardInterrupt\u001b[0m: "
     ]
    }
   ],
   "source": [
    "for district in districts:\n",
    "    parse_districts(district)"
   ]
  },
  {
   "cell_type": "code",
   "execution_count": null,
   "metadata": {},
   "outputs": [],
   "source": []
  }
 ],
 "metadata": {
  "kernelspec": {
   "display_name": "Python 3",
   "language": "python",
   "name": "python3"
  },
  "language_info": {
   "codemirror_mode": {
    "name": "ipython",
    "version": 3
   },
   "file_extension": ".py",
   "mimetype": "text/x-python",
   "name": "python",
   "nbconvert_exporter": "python",
   "pygments_lexer": "ipython3",
   "version": "3.7.3"
  }
 },
 "nbformat": 4,
 "nbformat_minor": 2
}
